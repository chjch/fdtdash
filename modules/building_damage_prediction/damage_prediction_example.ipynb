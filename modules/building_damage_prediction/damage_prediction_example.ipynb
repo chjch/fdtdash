{
 "cells": [
  {
   "cell_type": "code",
   "execution_count": 1,
   "id": "125e2e5e",
   "metadata": {},
   "outputs": [],
   "source": [
    "# import libraries\n",
    "\n",
    "import pickle\n",
    "import pandas as pd\n",
    "# from sklearn.ensemble import RandomForestClassifier\n",
    "# from sklearn.preprocessing import OneHotEncoder"
   ]
  },
  {
   "cell_type": "code",
   "execution_count": 2,
   "id": "3b8b365d",
   "metadata": {},
   "outputs": [],
   "source": [
    "# define files\n",
    "\n",
    "inv_file = \"jaxtwin_aoi_inventory.pkl\"\n",
    "rf_file = \"trained_rf.pkl\"\n",
    "enc_file = \"encoder.pkl\""
   ]
  },
  {
   "cell_type": "code",
   "execution_count": 3,
   "id": "1b9ecd6c",
   "metadata": {},
   "outputs": [],
   "source": [
    "with open(inv_file, 'rb') as f:\n",
    "    inv = pickle.load(f)\n",
    "    \n",
    "with open(rf_file, 'rb') as f:\n",
    "    rf = pickle.load(f)\n",
    "\n",
    "with open(enc_file, 'rb') as f:\n",
    "    enc = pickle.load(f)"
   ]
  },
  {
   "cell_type": "code",
   "execution_count": 4,
   "id": "565f9e54",
   "metadata": {},
   "outputs": [],
   "source": [
    "# encode categorical variables\n",
    "\n",
    "cat = ['roofshape', 'roofCover']\n",
    "inv_cat = inv[cat]\n",
    "inv = inv.drop(columns=cat)\n",
    "\n",
    "inv_cat = pd.DataFrame(enc.transform(inv_cat), columns=enc.get_feature_names_out(), index=inv.index)\n",
    "inv = pd.concat([inv, inv_cat], axis=1)"
   ]
  },
  {
   "cell_type": "code",
   "execution_count": 5,
   "id": "85b730d4",
   "metadata": {},
   "outputs": [],
   "source": [
    "# crate testing dataframe\n",
    "\n",
    "X_test = inv[rf.feature_names_in_].dropna()\n",
    "test_coords = inv.loc[X_test.index, ['longitude','latitude']]\n",
    "\n",
    "y_pred = pd.Series(rf.predict(X_test), index=X_test.index, name='pred')\n",
    "pred_prob = pd.DataFrame(rf.predict_proba(X_test), index=X_test.index, columns=[f'DS{ii}_prob' for ii in range(3)])"
   ]
  },
  {
   "cell_type": "code",
   "execution_count": null,
   "id": "a96d11d4",
   "metadata": {},
   "outputs": [],
   "source": []
  }
 ],
 "metadata": {
  "kernelspec": {
   "display_name": "steve_brails",
   "language": "python",
   "name": "steve_brails"
  },
  "language_info": {
   "codemirror_mode": {
    "name": "ipython",
    "version": 3
   },
   "file_extension": ".py",
   "mimetype": "text/x-python",
   "name": "python",
   "nbconvert_exporter": "python",
   "pygments_lexer": "ipython3",
   "version": "3.11.7"
  }
 },
 "nbformat": 4,
 "nbformat_minor": 5
}
